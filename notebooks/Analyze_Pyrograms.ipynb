{
 "cells": [
  {
   "cell_type": "markdown",
   "metadata": {},
   "source": [
    "Patrick BROCKMANN - LSCE (Climate and Environment Sciences Laboratory)<br>\n",
    "<img align=\"left\" width=\"40%\" src=\"http://www.lsce.ipsl.fr/Css/img/banniere_LSCE_75.png\"><br><br>"
   ]
  },
  {
   "cell_type": "markdown",
   "metadata": {},
   "source": [
    "<hr>"
   ]
  },
  {
   "cell_type": "markdown",
   "metadata": {},
   "source": [
    "# Load Modules\n",
    "#### The following modules are required for this Python Notebook : netCDF4, pandas, numpy, peakutils, randomcolor, ipywidgets"
   ]
  },
  {
   "cell_type": "code",
   "execution_count": 1,
   "metadata": {},
   "outputs": [],
   "source": [
    "import netCDF4\n",
    "import pandas as pd\n",
    "import numpy as np"
   ]
  },
  {
   "cell_type": "markdown",
   "metadata": {},
   "source": [
    "# Select .cdf file\n",
    "#### Declare here the .cdf files to be used (160000-13_489mg.cdf in \"file = \"160000-13_489mg.cdf\"\")\n",
    "#### In case you want to explore several result files (but one at once), add the \"#\" symbol in front of the line not to be used\n",
    "#### .cdf files must be located in the same folder as the Python Notebook"
   ]
  },
  {
   "cell_type": "code",
   "execution_count": 3,
   "metadata": {},
   "outputs": [],
   "source": [
    "url = 'https://vesg.ipsl.upmc.fr/thredds/dodsC/IPSLFS/brocksce/Sprectum/'\n",
    "\n",
    "#file = \"160000-13_489mg.cdf\"\n",
    "#file = \"160000-10_650mg.cdf\"\n",
    "#file = \"Elliott-11_108mg.cdf\"\n",
    "file = \"Elliott-21_351mg.cdf\"\n",
    "#file = \"Chernozem-23_889mg.cdf\"\n",
    "#file = \"Chernozem-9_159mg.cdf\"\n",
    "#file = \"Green-1_472mg.cdf\"\n",
    "#file = \"Pahokee-2_339mg.cdf\"\n",
    "#file = \"Pocahontas-5_256mg.cdf\"\n",
    "#file = \"Pocahontas-3_140mg.cdf\"\n",
    "#file = \"Suwanee-1_216mg.cdf\"\n",
    "#file = \"Suwanee-3_223mg.cdf\"\n",
    "#file = \"Vertisol-10_5mg.cdf\"\n",
    "#file = \"Vertisol-22_223mg.cdf\""
   ]
  },
  {
   "cell_type": "markdown",
   "metadata": {},
   "source": [
    "# Dataframe preparation\n",
    "#### Load the .cdf file as a table\n",
    "#### Declare the variables (scan_number, point_count and scan_acquisition time)\n",
    "#### Display the dimension of scan_number (number of scans),  \n",
    "#### List point_count (m/z) and scan_acquisition_time data (time in seconds)"
   ]
  },
  {
   "cell_type": "code",
   "execution_count": 4,
   "metadata": {},
   "outputs": [
    {
     "name": "stdout",
     "output_type": "stream",
     "text": [
      "3226\n",
      "[421 410 418 ... 418 416 416]\n",
      "[ 180.039   180.5431  181.0472 ... 1804.6405 1805.1446 1805.6486]\n"
     ]
    }
   ],
   "source": [
    "f = netCDF4.Dataset(url + file)\n",
    "scan_number = f.dimensions['scan_number'].size\n",
    "point_count = f.variables['point_count'][:]\n",
    "scan_acquisition_time = f.variables['scan_acquisition_time'][:]\n",
    "print(scan_number)\n",
    "print(point_count)\n",
    "print(scan_acquisition_time)"
   ]
  },
  {
   "cell_type": "markdown",
   "metadata": {},
   "source": [
    "# Resampling and homogeneisation of the dataframe\n",
    "#### m/z data in the 50-450 range are resampled"
   ]
  },
  {
   "cell_type": "code",
   "execution_count": 5,
   "metadata": {},
   "outputs": [
    {
     "ename": "RuntimeError",
     "evalue": "NetCDF: I/O failure",
     "output_type": "error",
     "traceback": [
      "\u001b[0;31m---------------------------------------------------------------------------\u001b[0m",
      "\u001b[0;31mRuntimeError\u001b[0m                              Traceback (most recent call last)",
      "\u001b[0;32m<ipython-input-5-0b6e16b47fec>\u001b[0m in \u001b[0;36m<module>\u001b[0;34m\u001b[0m\n\u001b[1;32m      9\u001b[0m     \u001b[0;31m#print(i, icurrent, point_count[i])\u001b[0m\u001b[0;34m\u001b[0m\u001b[0;34m\u001b[0m\u001b[0;34m\u001b[0m\u001b[0m\n\u001b[1;32m     10\u001b[0m     \u001b[0mx\u001b[0m \u001b[0;34m=\u001b[0m \u001b[0mf\u001b[0m\u001b[0;34m.\u001b[0m\u001b[0mvariables\u001b[0m\u001b[0;34m[\u001b[0m\u001b[0;34m'mass_values'\u001b[0m\u001b[0;34m]\u001b[0m\u001b[0;34m[\u001b[0m\u001b[0micurrent\u001b[0m\u001b[0;34m:\u001b[0m\u001b[0micurrent\u001b[0m \u001b[0;34m+\u001b[0m \u001b[0mpoint_count\u001b[0m\u001b[0;34m[\u001b[0m\u001b[0mi\u001b[0m\u001b[0;34m]\u001b[0m\u001b[0;34m]\u001b[0m\u001b[0;34m\u001b[0m\u001b[0;34m\u001b[0m\u001b[0m\n\u001b[0;32m---> 11\u001b[0;31m     \u001b[0my\u001b[0m \u001b[0;34m=\u001b[0m \u001b[0mf\u001b[0m\u001b[0;34m.\u001b[0m\u001b[0mvariables\u001b[0m\u001b[0;34m[\u001b[0m\u001b[0;34m'intensity_values'\u001b[0m\u001b[0;34m]\u001b[0m\u001b[0;34m[\u001b[0m\u001b[0micurrent\u001b[0m\u001b[0;34m:\u001b[0m\u001b[0micurrent\u001b[0m \u001b[0;34m+\u001b[0m \u001b[0mpoint_count\u001b[0m\u001b[0;34m[\u001b[0m\u001b[0mi\u001b[0m\u001b[0;34m]\u001b[0m\u001b[0;34m]\u001b[0m\u001b[0;34m\u001b[0m\u001b[0;34m\u001b[0m\u001b[0m\n\u001b[0m\u001b[1;32m     12\u001b[0m     \u001b[0micurrent\u001b[0m \u001b[0;34m=\u001b[0m \u001b[0micurrent\u001b[0m \u001b[0;34m+\u001b[0m \u001b[0mpoint_count\u001b[0m\u001b[0;34m[\u001b[0m\u001b[0mi\u001b[0m\u001b[0;34m]\u001b[0m\u001b[0;34m\u001b[0m\u001b[0;34m\u001b[0m\u001b[0m\n\u001b[1;32m     13\u001b[0m     \u001b[0my1\u001b[0m \u001b[0;34m=\u001b[0m \u001b[0mnp\u001b[0m\u001b[0;34m.\u001b[0m\u001b[0minterp\u001b[0m\u001b[0;34m(\u001b[0m\u001b[0mx1\u001b[0m\u001b[0;34m,\u001b[0m \u001b[0mx\u001b[0m\u001b[0;34m,\u001b[0m \u001b[0my\u001b[0m\u001b[0;34m)\u001b[0m\u001b[0;34m\u001b[0m\u001b[0;34m\u001b[0m\u001b[0m\n",
      "\u001b[0;32mnetCDF4/_netCDF4.pyx\u001b[0m in \u001b[0;36mnetCDF4._netCDF4.Variable.__getitem__\u001b[0;34m()\u001b[0m\n",
      "\u001b[0;32mnetCDF4/_netCDF4.pyx\u001b[0m in \u001b[0;36mnetCDF4._netCDF4.Variable._get\u001b[0;34m()\u001b[0m\n",
      "\u001b[0;32mnetCDF4/_netCDF4.pyx\u001b[0m in \u001b[0;36mnetCDF4._netCDF4._ensure_nc_success\u001b[0;34m()\u001b[0m\n",
      "\u001b[0;31mRuntimeError\u001b[0m: NetCDF: I/O failure"
     ]
    }
   ],
   "source": [
    "x1 = np.arange(50,450+1,1)\n",
    "\n",
    "df = pd.DataFrame()\n",
    "df['m/z'] = x1\n",
    "df.set_index('m/z', inplace=True)\n",
    "\n",
    "icurrent = 0\n",
    "for i in range(0,scan_number):\n",
    "    #print(i, icurrent, point_count[i])\n",
    "    x = f.variables['mass_values'][icurrent:icurrent + point_count[i]]\n",
    "    y = f.variables['intensity_values'][icurrent:icurrent + point_count[i]]\n",
    "    icurrent = icurrent + point_count[i]\n",
    "    y1 = np.interp(x1, x, y)\n",
    "    df[i] = y1"
   ]
  },
  {
   "cell_type": "markdown",
   "metadata": {},
   "source": [
    "# Display the dataframe (df) with the intensity of each m/z at every scan number"
   ]
  },
  {
   "cell_type": "code",
   "execution_count": null,
   "metadata": {},
   "outputs": [],
   "source": [
    "df"
   ]
  },
  {
   "cell_type": "markdown",
   "metadata": {},
   "source": [
    "# Transpose the lines/columns of the df dataframe into the df1 dataframe\n",
    "#### This allows getting scan numbers as the x axis\n",
    "#### Rename column \"scan_number\"  into \"scan\" and \"scan_acquisition_time\" column into \"Time\" - show the df1 table"
   ]
  },
  {
   "cell_type": "code",
   "execution_count": null,
   "metadata": {
    "scrolled": true
   },
   "outputs": [],
   "source": [
    "df1 = df.T\n",
    "df1.index.rename('Scan', inplace=True)\n",
    "df1['Time'] = scan_acquisition_time.data\n",
    "df1"
   ]
  },
  {
   "cell_type": "markdown",
   "metadata": {},
   "source": [
    "# Change the index column from scans to time (sec)"
   ]
  },
  {
   "cell_type": "code",
   "execution_count": null,
   "metadata": {},
   "outputs": [],
   "source": [
    "df1 ['Scan'] = df1.index\n",
    "df1.index = df1.Time\n",
    "df1"
   ]
  },
  {
   "cell_type": "markdown",
   "metadata": {},
   "source": [
    "# Display a heatmap of m/z intensity with time (sec)"
   ]
  },
  {
   "cell_type": "code",
   "execution_count": null,
   "metadata": {},
   "outputs": [],
   "source": [
    "import numpy as np\n",
    "\n",
    "from bokeh.io import output_notebook\n",
    "from bokeh.plotting import figure, show, output_file\n",
    "from bokeh.models import LinearColorMapper, ColorBar\n",
    "from bokeh.models import HoverTool\n",
    "output_notebook()\n",
    "\n",
    "mapper = LinearColorMapper(palette=\"Viridis256\", low=0, high=1.5E7)\n",
    "\n",
    "p = figure(active_scroll='wheel_zoom', tooltips=[(\"Time\", \"$x\"), (\"m/z\", \"$y\"), (\"value\", \"@image\")])\n",
    "p.x_range.range_padding = p.y_range.range_padding = 0\n",
    "\n",
    "# must give a vector of image data for image parameter\n",
    "array = [df1.T.rolling(axis=1, center=True, window=100).mean().to_numpy()]\n",
    "\n",
    "# x, y, dw, dh choosen from data\n",
    "p.image(image=array, x=0, y=50, dw=30, dh=450, color_mapper=mapper)   \n",
    "\n",
    "# add titles to axes\n",
    "p.xaxis.axis_label = \"Time (min)\"\n",
    "p.yaxis.axis_label = \"m/z\"\n",
    "\n",
    "# Add a colorbar scale\n",
    "color_bar = ColorBar(color_mapper=mapper, major_label_text_font_size=\"8pt\", label_standoff=15, location=(5, 0),)\n",
    "p.add_layout(color_bar, 'right')\n",
    "\n",
    "show(p)"
   ]
  },
  {
   "cell_type": "markdown",
   "metadata": {},
   "source": [
    "# Smoothing the df1  Dataframe values\n"
   ]
  },
  {
   "cell_type": "code",
   "execution_count": null,
   "metadata": {
    "scrolled": true
   },
   "outputs": [],
   "source": [
    "df1 = df1.rolling(axis=0, center=True, window=100).mean()\n",
    "df1.round (1)\n",
    "df1"
   ]
  },
  {
   "cell_type": "markdown",
   "metadata": {},
   "source": [
    "# Examination of m/z curves with time (sec)\n",
    "### Here for m/z 50 to 70 (for x in np.arange(50,70,1):)"
   ]
  },
  {
   "cell_type": "code",
   "execution_count": null,
   "metadata": {},
   "outputs": [],
   "source": [
    "import randomcolor\n",
    "rand_color = randomcolor.RandomColor()"
   ]
  },
  {
   "cell_type": "code",
   "execution_count": null,
   "metadata": {},
   "outputs": [],
   "source": [
    "p = figure(plot_width=800, plot_height=500, tools='hover,wheel_zoom')\n",
    "for x in np.arange(50,70,1):\n",
    "    color = rand_color.generate()\n",
    "    p.line(x=df1[x].index, y=df1[x], line_width=2, line_color=color[0])\n",
    "    \n",
    "# Add axes title\n",
    "p.xaxis.axis_label = \"Time (sec)\"\n",
    "p.yaxis.axis_label = \"Intensity (no unit)\"\n",
    "\n",
    "show(p)"
   ]
  },
  {
   "cell_type": "markdown",
   "metadata": {},
   "source": [
    "# A new column \"Temperature\" (°C) is created as the index column\n",
    "#### Temperature values are calculated from the temperature program during pyrolisis (from 5 to 20 min @ 30 °C/min in this case). Only scans acquired during this temperature ramp are conserved"
   ]
  },
  {
   "cell_type": "code",
   "execution_count": null,
   "metadata": {},
   "outputs": [],
   "source": [
    "df1['Temperature'] = df1['Time'].apply(lambda x: 200+(x-300)/2 if (x/60 >= 5) & (x/60 <=20) else -1 )\n",
    "df1.drop(df1[df1['Temperature'] == -1].index, inplace=True)\n",
    "df1.index = df1.Temperature.round(1)\n",
    "df1"
   ]
  },
  {
   "cell_type": "markdown",
   "metadata": {},
   "source": [
    "# Determination of Tpeak values in m/z intensity curves\n",
    "#### Import Python modules"
   ]
  },
  {
   "cell_type": "code",
   "execution_count": null,
   "metadata": {},
   "outputs": [],
   "source": [
    "import numpy\n",
    "import peakutils\n",
    "from peakutils.plot import plot as pplot\n",
    "from matplotlib import pyplot\n",
    "%matplotlib inline\n",
    "\n",
    "import ipywidgets\n",
    "from ipywidgets import interact"
   ]
  },
  {
   "cell_type": "markdown",
   "metadata": {},
   "source": [
    "## Examination of individual m/z intensity curves \n",
    "#### A threshold can be defined for improving Tpeak definition. Similarly, you can define a minimal distance between two Tpeaks. By default, the m/z 76 curve is displayed"
   ]
  },
  {
   "cell_type": "code",
   "execution_count": null,
   "metadata": {},
   "outputs": [],
   "source": [
    "# est-il possible d'ajouter infobulles ?"
   ]
  },
  {
   "cell_type": "code",
   "execution_count": null,
   "metadata": {},
   "outputs": [],
   "source": [
    "thres = 0.9\n",
    "dist = 200\n",
    "\n",
    "@interact(\n",
    "    mz=ipywidgets.IntSlider(value=76, min=50, max=450, step=1, continuous_update=False),\n",
    "    thres=ipywidgets.FloatSlider(value=thres, min=0, max=1, step=0.02, continuous_update=False),\n",
    "    dist=ipywidgets.FloatSlider(value=dist, min=0, max=1000, step=50, continuous_update=False)\n",
    ")\n",
    "def plot(mz, thres, dist):\n",
    "    x = df1[mz].index\n",
    "    y = df1[mz].values\n",
    "    indexes = peakutils.indexes(y, thres=thres, min_dist=dist, thres_abs=False)\n",
    "    tpeak=[]\n",
    "    ypos=[]\n",
    "    if len(indexes) != 0:\n",
    "        for i in indexes:\n",
    "            print(mz, i, x[i], y[i])\n",
    "            tpeak.append(x[i])\n",
    "            ypos.append(y[i])\n",
    "            \n",
    "    pyplot.figure(figsize=(10,6))\n",
    "    \n",
    "    pyplot.plot(x, y, color='b', alpha=1)\n",
    "    pyplot.scatter(tpeak, ypos, marker='o', c='r', alpha=0.5)\n",
    "    \n",
    "    pyplot.xlabel(\"Temperature (°C)\")\n",
    "    pyplot.ylabel(\"Intensity (no unit)\")\n",
    "    \n",
    "    pyplot.grid(True)\n",
    "    axes = pyplot.gca()\n",
    "    \n"
   ]
  },
  {
   "cell_type": "markdown",
   "metadata": {},
   "source": [
    "# Display all m/z intensity curves in the 50-450 range and Tpeak values (as red dots) of each m/z curve. \n",
    "#### The threshold for Tpeak definition is set for all m/z"
   ]
  },
  {
   "cell_type": "code",
   "execution_count": null,
   "metadata": {},
   "outputs": [],
   "source": [
    "hover = HoverTool(names=['peaks'])\n",
    "           \n",
    "p = figure(plot_width=800, plot_height=500, tools=[hover, 'wheel_zoom'])\n",
    "\n",
    "for mz in range(50,450+1,1):\n",
    "    p.line(x=df1[mz].index, y=df1[mz], line_width=1, line_color='blue', alpha=0.1)\n",
    "    \n",
    "p.scatter(tpeak, ypos, name='peaks', marker='circle', size=6,\n",
    "                    color='red', alpha=0.3)\n",
    "# add titles to axes\n",
    "p.xaxis.axis_label = \"Temperature (°C)\"\n",
    "p.yaxis.axis_label = \"Intensity (no unit)\"\n",
    "\n",
    "show(p)"
   ]
  },
  {
   "cell_type": "markdown",
   "metadata": {},
   "source": [
    "# Prepare a table for .csv export. \n",
    "#### The table will contain Tpeak values and maximum intensity defined for each m/z, depending on the threshold defined (a single threshold for all m/z)\n",
    "#### To note, Tpeak values are not directly comparable to Rock-Eval Tp2 values (see Jacob et al.)"
   ]
  },
  {
   "cell_type": "code",
   "execution_count": null,
   "metadata": {},
   "outputs": [],
   "source": [
    "dfout = pd.DataFrame({'mz': mzList, 'Tpeak': tpeak, 'Intensity' : ypos})\n",
    "dfout"
   ]
  },
  {
   "cell_type": "markdown",
   "metadata": {},
   "source": [
    "# Export Tpeak data for m/z intensity curves as a.csv file (out.csv)\n",
    "#### This file will be generated in the same folder as the Python Notebook and the .cdf files"
   ]
  },
  {
   "cell_type": "code",
   "execution_count": null,
   "metadata": {},
   "outputs": [],
   "source": [
    "dfout.to_csv(\"out.csv\", index=True)"
   ]
  },
  {
   "cell_type": "code",
   "execution_count": null,
   "metadata": {},
   "outputs": [],
   "source": []
  }
 ],
 "metadata": {
  "kernelspec": {
   "display_name": "Python 3",
   "language": "python",
   "name": "python3"
  },
  "language_info": {
   "codemirror_mode": {
    "name": "ipython",
    "version": 3
   },
   "file_extension": ".py",
   "mimetype": "text/x-python",
   "name": "python",
   "nbconvert_exporter": "python",
   "pygments_lexer": "ipython3",
   "version": "3.8.5"
  }
 },
 "nbformat": 4,
 "nbformat_minor": 2
}
